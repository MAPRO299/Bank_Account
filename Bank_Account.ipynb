{
 "cells": [
  {
   "cell_type": "code",
   "execution_count": 3,
   "metadata": {},
   "outputs": [],
   "source": [
    "class Account:\n",
    "    def __init__(self,owner,balance=500):\n",
    "        self.owner = owner\n",
    "        self.balance = balance\n",
    "        \n",
    "    def __str__(self):\n",
    "        return f'Owner: {self.owner} \\nBalance: {self.balance}'\n",
    "        \n",
    "    def withdrawal(self,amount):\n",
    "        if amount <= self.balance:\n",
    "            self.balance -= amount\n",
    "        else:\n",
    "            print(f'Your balance: {self.balance}')\n",
    "            \n",
    "    def deposit(self,amount):\n",
    "        self.balance += amount"
   ]
  },
  {
   "cell_type": "code",
   "execution_count": 4,
   "metadata": {},
   "outputs": [],
   "source": [
    "myAccount = Account('Maxime')"
   ]
  },
  {
   "cell_type": "code",
   "execution_count": 5,
   "metadata": {},
   "outputs": [
    {
     "name": "stdout",
     "output_type": "stream",
     "text": [
      "Owner: Maxime \n",
      "Balance: 500\n"
     ]
    }
   ],
   "source": [
    "print(myAccount)"
   ]
  },
  {
   "cell_type": "code",
   "execution_count": 6,
   "metadata": {},
   "outputs": [],
   "source": [
    "class ATM(Account):\n",
    "    def __init__(self,owner,balance=500):\n",
    "        super().__init__(owner,balance)\n",
    "    \n",
    "    def ask(self):\n",
    "        while True:\n",
    "            try:\n",
    "                action = str(input('Which action do you want to do? \\n\\t1. Withdraw \\n\\t2. Deposit \\n\\n'))\n",
    "            except:\n",
    "                print('Please enter a valid answer.')\n",
    "                continue\n",
    "                \n",
    "            else:\n",
    "                if action.lower()[0] == 'w':\n",
    "                    while True:\n",
    "                        try:\n",
    "                            action_two = int(input(f'\\nHow many dollars you want to withdraw? \\n--Enter a number between 1 and {self.balance}-- \\n\\n'))\n",
    "                        except:\n",
    "                            print('\\nPlease enter a valid answer.')\n",
    "                            continue\n",
    "                        else:\n",
    "                            myAccount.withdrawal(action_two)\n",
    "                            print(f'\\n{action_two}$ has successfully been debited from your account \\nYour new balance is {self.balance}$')\n",
    "                            break\n",
    "                            \n",
    "                elif action.lower()[0] == 'd':\n",
    "                    while True:\n",
    "                        try:\n",
    "                            action_three = int(input(f'\\nHow many dollars you want to deposit? \\n\\n'))\n",
    "                        except:\n",
    "                            print('\\nPlease enter a valid answer.')\n",
    "                            continue\n",
    "                        else:\n",
    "                            myAccount.deposit(action_three)\n",
    "                            print(f'\\n{action_three}$ has successfully been credited on your account \\nYour new balance is {self.balance}$')\n",
    "                            break\n",
    "                            \n",
    "                else:\n",
    "                    print('\\nPlease enter a valid answer.')\n",
    "                    continue\n",
    "                break"
   ]
  },
  {
   "cell_type": "code",
   "execution_count": 7,
   "metadata": {},
   "outputs": [],
   "source": [
    "myAccount = ATM('Maxime',600)"
   ]
  },
  {
   "cell_type": "code",
   "execution_count": null,
   "metadata": {},
   "outputs": [],
   "source": [
    "myAccount.ask()"
   ]
  },
  {
   "cell_type": "code",
   "execution_count": null,
   "metadata": {},
   "outputs": [],
   "source": []
  }
 ],
 "metadata": {
  "kernelspec": {
   "display_name": "Python 3",
   "language": "python",
   "name": "python3"
  },
  "language_info": {
   "codemirror_mode": {
    "name": "ipython",
    "version": 3
   },
   "file_extension": ".py",
   "mimetype": "text/x-python",
   "name": "python",
   "nbconvert_exporter": "python",
   "pygments_lexer": "ipython3",
   "version": "3.7.4"
  }
 },
 "nbformat": 4,
 "nbformat_minor": 2
}
